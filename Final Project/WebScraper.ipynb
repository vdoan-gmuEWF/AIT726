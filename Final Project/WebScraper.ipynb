{
 "cells": [
  {
   "cell_type": "code",
   "execution_count": null,
   "metadata": {},
   "outputs": [],
   "source": [
    "import requests\n",
    "from bs4 import BeautifulSoup\n",
    "import pandas as pd\n",
    "\n",
    "class WebScraper:\n",
    "    def __init__(self, base_url, asset_type):\n",
    "        self.base_url = base_url\n",
    "        self.url_list = []\n",
    "        self.asset_type = asset_type\n",
    "        \n",
    "    def fetch_cards(self):\n",
    "        response = requests.get(self.base_url + self.asset_type)\n",
    "        soup = BeautifulSoup(response.content, 'html.parser')\n",
    "        cards = soup.find_all('div', class_='card get-single-page')\n",
    "        for card in cards:\n",
    "            p_tag = card.find('p')\n",
    "            if p_tag:\n",
    "                url_string = self.base_url + p_tag.get_text()\n",
    "                self.url_list.append(url_string)\n",
    "\n",
    "    def fetch_texts(self):\n",
    "        import os\n",
    "        if not os.path.exists('data'):\n",
    "            os.makedirs('data')\n",
    "        self.fetch_cards()\n",
    "        all_texts = {}  # Dictionary to hold all texts\n",
    "\n",
    "        for url in self.url_list:\n",
    "            response = requests.get(url)\n",
    "            soup = BeautifulSoup(response.content, 'html.parser')\n",
    "            primary_element = soup.find(id='primary')\n",
    "            if primary_element:\n",
    "                primary_text = primary_element.get_text(strip=True).replace('Export PDF', '')\n",
    "                column_name = url.split('/')[-1]\n",
    "                all_texts[column_name] = primary_text\n",
    "        pd.DataFrame.from_dict(all_texts, orient='index', columns=['Text']).to_csv('data/' + self.asset_type + '.csv', index_label='Name')\n",
    "\n",
    "# Usage\n",
    "WebScraper('https://infotechnology.fhwa.dot.gov/','bridge').fetch_texts()"
   ]
  }
 ],
 "metadata": {
  "kernelspec": {
   "display_name": "base",
   "language": "python",
   "name": "python3"
  },
  "language_info": {
   "codemirror_mode": {
    "name": "ipython",
    "version": 3
   },
   "file_extension": ".py",
   "mimetype": "text/x-python",
   "name": "python",
   "nbconvert_exporter": "python",
   "pygments_lexer": "ipython3",
   "version": "3.12.2"
  }
 },
 "nbformat": 4,
 "nbformat_minor": 2
}
